{
 "cells": [
  {
   "cell_type": "markdown",
   "metadata": {},
   "source": [
    "# Exercise-2\n",
    "Add the specified code for each code cell, running the cells _in order_."
   ]
  },
  {
   "cell_type": "markdown",
   "metadata": {},
   "source": [
    "Write a **`for`** loop that prints out every 5th number (multiples of 5) from 0 to 100 (inclusive).\n",
    "- _Tip:_ use an **`end=','`** keyword argument to the `print()` function to print all the numbers on the same line."
   ]
  },
  {
   "cell_type": "code",
   "execution_count": 3,
   "metadata": {
    "collapsed": false
   },
   "outputs": [
    {
     "name": "stdout",
     "output_type": "stream",
     "text": [
      "0, 5, 10, 15, 20, 25, 30, 35, 40, 45, 50, 55, 60, 65, 70, 75, 80, 85, 90, 95, the end.\n"
     ]
    }
   ],
   "source": [
    "for count in range (0,100,5):\n",
    "    print(str(count), end = \", \")\n",
    "print(\"the end.\")"
   ]
  },
  {
   "cell_type": "markdown",
   "metadata": {},
   "source": [
    "Use a **`for`** loop to print out the first 15 [Triangular numbers](https://en.wikipedia.org/wiki/Triangular_number). This is a sequence of numbers for which the _nth_ value is the sum of the numbers from 0 to _n_. **Do this only using addition!**\n",
    "- _Hint:_ use a _second_ variable to keep track of the `total` value, and have that value increase by the number of times you've been through the loop each iteration!"
   ]
  },
  {
   "cell_type": "code",
   "execution_count": 11,
   "metadata": {
    "collapsed": false
   },
   "outputs": [
    {
     "name": "stdout",
     "output_type": "stream",
     "text": [
      "0, 1, 2, 3, 4, 5, 6, 7, 8, 9, 10, 11, 12, the end.\n"
     ]
    }
   ],
   "source": [
    "total_value = 0\n",
    "for count in range(1,14):\n",
    "    print(str(total_value), end = \", \")\n",
    "    total_value = total_value = count\n",
    "print(\"the end.\")"
   ]
  },
  {
   "cell_type": "markdown",
   "metadata": {},
   "source": [
    "_Challenge_ Use a **`for`** loop to print out 20 numbers, each of which is larger than the previous by the the _sum_ of the **two** previous numbers (the [Fibonacci sequence](https://en.wikipedia.org/wiki/Fibonacci_number).\n",
    "- _Hint_: you'll need to keep track of the two previous values (start them at 0 and 1), and then \"update\" them each time through the loop, storing the  \"new total\" in the first previous variable, and the first previous variable in the second (be careful about the ordering of this!) "
   ]
  },
  {
   "cell_type": "code",
   "execution_count": null,
   "metadata": {
    "collapsed": false
   },
   "outputs": [],
   "source": []
  },
  {
   "cell_type": "markdown",
   "metadata": {},
   "source": [
    "Define a function **`is_prime()`** that takes in a whole number as an argument and returns whether or not that number is prime (divisible by only 1 and itself).\n",
    "- You can check divisibility by seeing if the remainder (using the modulo **`%`** operator) is 0, or by comparing the integer of the quotient to the float of the quotient.\n",
    "- Be careful to only `return` that a value is in fact prime after you've checked **all** the factors!"
   ]
  },
  {
   "cell_type": "code",
   "execution_count": 16,
   "metadata": {
    "collapsed": false
   },
   "outputs": [
    {
     "data": {
      "text/plain": [
       "False"
      ]
     },
     "execution_count": 16,
     "metadata": {},
     "output_type": "execute_result"
    }
   ],
   "source": [
    "def is_prime(number):\n",
    "    for factor in range(2,number):\n",
    "        if number % factor == 0:\n",
    "            return False\n",
    "    return True\n",
    "\n",
    "is_prime(91)\n",
    "\n",
    "        "
   ]
  },
  {
   "cell_type": "markdown",
   "metadata": {},
   "source": [
    "Define a function **`find_primes()`** that takes in a whole number and _prints out_ all of the prime numbers that are less than or equal to the parameter.\n",
    "- Use your `is_prime()` function!\n",
    "- Call the function to print out the prime numbers up to 101."
   ]
  },
  {
   "cell_type": "code",
   "execution_count": 23,
   "metadata": {
    "collapsed": false
   },
   "outputs": [
    {
     "name": "stdout",
     "output_type": "stream",
     "text": [
      "2, 3, 5, 7, 11, 13, 17, 19, 23, 29, 31, 37, 41, 43, 47, 53, 59, 61, 67, 71, 73, 79, the end.\n"
     ]
    }
   ],
   "source": [
    "def find_primes(new_number):\n",
    "    for n in range(2,new_number):\n",
    "        if is_prime(n):\n",
    "            print(n, end = \", \")\n",
    "    print(\"the end.\")\n",
    "\n",
    "find_primes(81)"
   ]
  },
  {
   "cell_type": "markdown",
   "metadata": {},
   "source": [
    "As discussed in the module, `for` loops can be user to iterate over collections of data such as files. But it is also possible to convert a **`string`** into a collection (technically a _list_) of ___words___ by calling the [`split()`](https://docs.python.org/3.6/library/stdtypes.html#str.split) method on that string.\n",
    "\n",
    "Create a variable `quote` containing a quote from someone you admire. Then create a variable **`words`** by calling the `split()` method on the quote."
   ]
  },
  {
   "cell_type": "code",
   "execution_count": 34,
   "metadata": {
    "collapsed": false
   },
   "outputs": [
    {
     "name": "stdout",
     "output_type": "stream",
     "text": [
      "['With', 'malice', 'toward', 'none,', 'with', 'charity', 'toward', 'all', '...']\n"
     ]
    }
   ],
   "source": [
    "quote = \"With malice toward none, with charity toward all ...\"\n",
    "words = quote.split()\n",
    "print(words)"
   ]
  },
  {
   "cell_type": "markdown",
   "metadata": {},
   "source": [
    "Use a **`for`** loop to iterate through the words, printing out each one on a separate line."
   ]
  },
  {
   "cell_type": "code",
   "execution_count": 35,
   "metadata": {
    "collapsed": false
   },
   "outputs": [
    {
     "name": "stdout",
     "output_type": "stream",
     "text": [
      "With\n",
      "malice\n",
      "toward\n",
      "none,\n",
      "with\n",
      "charity\n",
      "toward\n",
      "all\n",
      "...\n"
     ]
    }
   ],
   "source": [
    "for word in words:\n",
    "    print(word)"
   ]
  },
  {
   "cell_type": "markdown",
   "metadata": {},
   "source": [
    "Use a **`for`** loop to determine the _percentage_ of words in the quote that have 4 or more letters."
   ]
  },
  {
   "cell_type": "code",
   "execution_count": 41,
   "metadata": {
    "collapsed": false
   },
   "outputs": [
    {
     "name": "stdout",
     "output_type": "stream",
     "text": [
      "0.78\n"
     ]
    }
   ],
   "source": [
    "count = 0\n",
    "above_four = 0\n",
    "for word in words:\n",
    "    if len(word) >= 4:\n",
    "        above_four=above_four+1\n",
    "    count = count + 1\n",
    "print(round(above_four/count,2))"
   ]
  },
  {
   "cell_type": "markdown",
   "metadata": {},
   "source": [
    "It's also possible to use a `for` loop to iterate through the _letters_ in a string!\n",
    "\n",
    "Create a variable `word` containing your favorite word. Iterate through the letters in the word, printing `\"Give me a __!\"` for each (replacing the `__` with the letter). Finaly, print `\"What's that spell?!\"` followed by the word."
   ]
  },
  {
   "cell_type": "code",
   "execution_count": 45,
   "metadata": {
    "collapsed": false
   },
   "outputs": [
    {
     "name": "stdout",
     "output_type": "stream",
     "text": [
      "Give me a s!\n",
      "Give me a a!\n",
      "Give me a n!\n",
      "Give me a d!\n",
      "Give me a p!\n",
      "Give me a i!\n",
      "Give me a p!\n",
      "Give me a e!\n",
      "Give me a r!\n",
      "What's that spell?!\n",
      "SANDPIPER!!!\n"
     ]
    }
   ],
   "source": [
    "new_word = \"sandpiper\"\n",
    "for letter in new_word:\n",
    "    print(\"Give me a \" + letter + \"!\")\n",
    "print(\"What's that spell?!\\n\" + new_word.upper() + \"!!!\")"
   ]
  },
  {
   "cell_type": "code",
   "execution_count": null,
   "metadata": {
    "collapsed": true
   },
   "outputs": [],
   "source": []
  }
 ],
 "metadata": {
  "kernelspec": {
   "display_name": "Python 3",
   "language": "python",
   "name": "python3"
  },
  "language_info": {
   "codemirror_mode": {
    "name": "ipython",
    "version": 3
   },
   "file_extension": ".py",
   "mimetype": "text/x-python",
   "name": "python",
   "nbconvert_exporter": "python",
   "pygments_lexer": "ipython3",
   "version": "3.6.0"
  },
  "toc": {
   "colors": {
    "hover_highlight": "#DAA520",
    "running_highlight": "#FF0000",
    "selected_highlight": "#FFD700"
   },
   "moveMenuLeft": true,
   "nav_menu": {
    "height": "30px",
    "width": "252px"
   },
   "navigate_menu": true,
   "number_sections": true,
   "sideBar": true,
   "threshold": 4,
   "toc_cell": false,
   "toc_section_display": "block",
   "toc_window_display": false,
   "widenNotebook": false
  }
 },
 "nbformat": 4,
 "nbformat_minor": 2
}
